{
 "cells": [
  {
   "cell_type": "code",
   "execution_count": 99,
   "metadata": {},
   "outputs": [],
   "source": [
    "import pandas as pd"
   ]
  },
  {
   "cell_type": "code",
   "execution_count": 111,
   "metadata": {},
   "outputs": [],
   "source": [
    "df = pd.read_csv(\"./Course.txt\", sep=\",\", header=None)\n",
    "df.columns = ['CODE','ID', 'Name', 'Instructor', 'first_name', 'Limits']"
   ]
  },
  {
   "cell_type": "code",
   "execution_count": 112,
   "metadata": {},
   "outputs": [
    {
     "data": {
      "text/html": [
       "<div>\n",
       "<style scoped>\n",
       "    .dataframe tbody tr th:only-of-type {\n",
       "        vertical-align: middle;\n",
       "    }\n",
       "\n",
       "    .dataframe tbody tr th {\n",
       "        vertical-align: top;\n",
       "    }\n",
       "\n",
       "    .dataframe thead th {\n",
       "        text-align: right;\n",
       "    }\n",
       "</style>\n",
       "<table border=\"1\" class=\"dataframe\">\n",
       "  <thead>\n",
       "    <tr style=\"text-align: right;\">\n",
       "      <th></th>\n",
       "      <th>CODE</th>\n",
       "      <th>ID</th>\n",
       "      <th>Name</th>\n",
       "      <th>Instructor</th>\n",
       "      <th>first_name</th>\n",
       "      <th>Limits</th>\n",
       "    </tr>\n",
       "  </thead>\n",
       "  <tbody>\n",
       "    <tr>\n",
       "      <th>0</th>\n",
       "      <td>34660</td>\n",
       "      <td>'CS230'</td>\n",
       "      <td>' DIST COMPUTER SYS'</td>\n",
       "      <td>'EL ZARKI</td>\n",
       "      <td>M.'</td>\n",
       "      <td>4</td>\n",
       "    </tr>\n",
       "    <tr>\n",
       "      <th>1</th>\n",
       "      <td>34680</td>\n",
       "      <td>'CS241'</td>\n",
       "      <td>'ADV COMPILER CONSTR'</td>\n",
       "      <td>'FRANZ</td>\n",
       "      <td>M.'</td>\n",
       "      <td>4</td>\n",
       "    </tr>\n",
       "    <tr>\n",
       "      <th>2</th>\n",
       "      <td>34610</td>\n",
       "      <td>'CS202'</td>\n",
       "      <td>'APPLIED CRYPTY'</td>\n",
       "      <td>'JARECKI</td>\n",
       "      <td>S.'</td>\n",
       "      <td>2</td>\n",
       "    </tr>\n",
       "    <tr>\n",
       "      <th>3</th>\n",
       "      <td>34650</td>\n",
       "      <td>'CS222'</td>\n",
       "      <td>'PRINCIPLS DATA MGMT'</td>\n",
       "      <td>'LI</td>\n",
       "      <td>C.'</td>\n",
       "      <td>3</td>\n",
       "    </tr>\n",
       "    <tr>\n",
       "      <th>4</th>\n",
       "      <td>34700</td>\n",
       "      <td>'CS260'</td>\n",
       "      <td>'FUND ALGORITHMS'</td>\n",
       "      <td>'HIRSCHBERG</td>\n",
       "      <td>D'</td>\n",
       "      <td>5</td>\n",
       "    </tr>\n",
       "    <tr>\n",
       "      <th>5</th>\n",
       "      <td>34720</td>\n",
       "      <td>'CS263'</td>\n",
       "      <td>'ANALYSIS OF ALGRTHM'</td>\n",
       "      <td>'MIHAIL</td>\n",
       "      <td>M.'</td>\n",
       "      <td>3</td>\n",
       "    </tr>\n",
       "    <tr>\n",
       "      <th>6</th>\n",
       "      <td>34625</td>\n",
       "      <td>'CS211A '</td>\n",
       "      <td>'IMAGE UNDERSTANDING'</td>\n",
       "      <td>'MAJUMDER</td>\n",
       "      <td>A.'</td>\n",
       "      <td>3</td>\n",
       "    </tr>\n",
       "    <tr>\n",
       "      <th>7</th>\n",
       "      <td>34790</td>\n",
       "      <td>'CS274A'</td>\n",
       "      <td>'PROB LEARNING'</td>\n",
       "      <td>'SMYTH</td>\n",
       "      <td>P.'</td>\n",
       "      <td>6</td>\n",
       "    </tr>\n",
       "  </tbody>\n",
       "</table>\n",
       "</div>"
      ],
      "text/plain": [
       "    CODE          ID                    Name    Instructor first_name  Limits\n",
       "0  34660     'CS230'    ' DIST COMPUTER SYS'     'EL ZARKI        M.'       4\n",
       "1  34680     'CS241'   'ADV COMPILER CONSTR'        'FRANZ        M.'       4\n",
       "2  34610     'CS202'        'APPLIED CRYPTY'      'JARECKI        S.'       2\n",
       "3  34650     'CS222'   'PRINCIPLS DATA MGMT'           'LI        C.'       3\n",
       "4  34700     'CS260'       'FUND ALGORITHMS'   'HIRSCHBERG         D'       5\n",
       "5  34720     'CS263'   'ANALYSIS OF ALGRTHM'       'MIHAIL        M.'       3\n",
       "6  34625   'CS211A '   'IMAGE UNDERSTANDING'     'MAJUMDER        A.'       3\n",
       "7  34790    'CS274A'         'PROB LEARNING'        'SMYTH        P.'       6"
      ]
     },
     "execution_count": 112,
     "metadata": {},
     "output_type": "execute_result"
    }
   ],
   "source": [
    "df"
   ]
  },
  {
   "cell_type": "code",
   "execution_count": 113,
   "metadata": {},
   "outputs": [],
   "source": [
    "# for i in df.ID:\n",
    "#     i = i.replace('\\'', '')"
   ]
  },
  {
   "cell_type": "code",
   "execution_count": 114,
   "metadata": {},
   "outputs": [
    {
     "name": "stderr",
     "output_type": "stream",
     "text": [
      "/Users/yurunsong/opt/anaconda3/lib/python3.7/site-packages/ipykernel_launcher.py:2: SettingWithCopyWarning: \n",
      "A value is trying to be set on a copy of a slice from a DataFrame\n",
      "\n",
      "See the caveats in the documentation: https://pandas.pydata.org/pandas-docs/stable/user_guide/indexing.html#returning-a-view-versus-a-copy\n",
      "  \n",
      "/Users/yurunsong/opt/anaconda3/lib/python3.7/site-packages/ipykernel_launcher.py:4: SettingWithCopyWarning: \n",
      "A value is trying to be set on a copy of a slice from a DataFrame\n",
      "\n",
      "See the caveats in the documentation: https://pandas.pydata.org/pandas-docs/stable/user_guide/indexing.html#returning-a-view-versus-a-copy\n",
      "  after removing the cwd from sys.path.\n",
      "/Users/yurunsong/opt/anaconda3/lib/python3.7/site-packages/ipykernel_launcher.py:6: SettingWithCopyWarning: \n",
      "A value is trying to be set on a copy of a slice from a DataFrame\n",
      "\n",
      "See the caveats in the documentation: https://pandas.pydata.org/pandas-docs/stable/user_guide/indexing.html#returning-a-view-versus-a-copy\n",
      "  \n",
      "/Users/yurunsong/opt/anaconda3/lib/python3.7/site-packages/ipykernel_launcher.py:8: SettingWithCopyWarning: \n",
      "A value is trying to be set on a copy of a slice from a DataFrame\n",
      "\n",
      "See the caveats in the documentation: https://pandas.pydata.org/pandas-docs/stable/user_guide/indexing.html#returning-a-view-versus-a-copy\n",
      "  \n"
     ]
    }
   ],
   "source": [
    "for i in range(8):\n",
    "    df.ID[i] = df.ID[i].replace('\\'', '')\n",
    "for i in range(8):\n",
    "    df.Name[i] = df.Name[i].replace('\\'', '')\n",
    "for i in range(8):\n",
    "    df.Instructor[i] = df.Instructor[i].replace('\\'', '')\n",
    "for i in range(8):\n",
    "    df.first_name[i] = df.first_name[i].replace('\\'', '')"
   ]
  },
  {
   "cell_type": "code",
   "execution_count": 115,
   "metadata": {},
   "outputs": [
    {
     "data": {
      "text/html": [
       "<div>\n",
       "<style scoped>\n",
       "    .dataframe tbody tr th:only-of-type {\n",
       "        vertical-align: middle;\n",
       "    }\n",
       "\n",
       "    .dataframe tbody tr th {\n",
       "        vertical-align: top;\n",
       "    }\n",
       "\n",
       "    .dataframe thead th {\n",
       "        text-align: right;\n",
       "    }\n",
       "</style>\n",
       "<table border=\"1\" class=\"dataframe\">\n",
       "  <thead>\n",
       "    <tr style=\"text-align: right;\">\n",
       "      <th></th>\n",
       "      <th>CODE</th>\n",
       "      <th>ID</th>\n",
       "      <th>Name</th>\n",
       "      <th>Instructor</th>\n",
       "      <th>first_name</th>\n",
       "      <th>Limits</th>\n",
       "    </tr>\n",
       "  </thead>\n",
       "  <tbody>\n",
       "    <tr>\n",
       "      <th>0</th>\n",
       "      <td>34660</td>\n",
       "      <td>CS230</td>\n",
       "      <td>DIST COMPUTER SYS</td>\n",
       "      <td>EL ZARKI</td>\n",
       "      <td>M.</td>\n",
       "      <td>4</td>\n",
       "    </tr>\n",
       "    <tr>\n",
       "      <th>1</th>\n",
       "      <td>34680</td>\n",
       "      <td>CS241</td>\n",
       "      <td>ADV COMPILER CONSTR</td>\n",
       "      <td>FRANZ</td>\n",
       "      <td>M.</td>\n",
       "      <td>4</td>\n",
       "    </tr>\n",
       "    <tr>\n",
       "      <th>2</th>\n",
       "      <td>34610</td>\n",
       "      <td>CS202</td>\n",
       "      <td>APPLIED CRYPTY</td>\n",
       "      <td>JARECKI</td>\n",
       "      <td>S.</td>\n",
       "      <td>2</td>\n",
       "    </tr>\n",
       "    <tr>\n",
       "      <th>3</th>\n",
       "      <td>34650</td>\n",
       "      <td>CS222</td>\n",
       "      <td>PRINCIPLS DATA MGMT</td>\n",
       "      <td>LI</td>\n",
       "      <td>C.</td>\n",
       "      <td>3</td>\n",
       "    </tr>\n",
       "    <tr>\n",
       "      <th>4</th>\n",
       "      <td>34700</td>\n",
       "      <td>CS260</td>\n",
       "      <td>FUND ALGORITHMS</td>\n",
       "      <td>HIRSCHBERG</td>\n",
       "      <td>D</td>\n",
       "      <td>5</td>\n",
       "    </tr>\n",
       "    <tr>\n",
       "      <th>5</th>\n",
       "      <td>34720</td>\n",
       "      <td>CS263</td>\n",
       "      <td>ANALYSIS OF ALGRTHM</td>\n",
       "      <td>MIHAIL</td>\n",
       "      <td>M.</td>\n",
       "      <td>3</td>\n",
       "    </tr>\n",
       "    <tr>\n",
       "      <th>6</th>\n",
       "      <td>34625</td>\n",
       "      <td>CS211A</td>\n",
       "      <td>IMAGE UNDERSTANDING</td>\n",
       "      <td>MAJUMDER</td>\n",
       "      <td>A.</td>\n",
       "      <td>3</td>\n",
       "    </tr>\n",
       "    <tr>\n",
       "      <th>7</th>\n",
       "      <td>34790</td>\n",
       "      <td>CS274A</td>\n",
       "      <td>PROB LEARNING</td>\n",
       "      <td>SMYTH</td>\n",
       "      <td>P.</td>\n",
       "      <td>6</td>\n",
       "    </tr>\n",
       "  </tbody>\n",
       "</table>\n",
       "</div>"
      ],
      "text/plain": [
       "    CODE        ID                  Name   Instructor first_name  Limits\n",
       "0  34660     CS230     DIST COMPUTER SYS     EL ZARKI         M.       4\n",
       "1  34680     CS241   ADV COMPILER CONSTR        FRANZ         M.       4\n",
       "2  34610     CS202        APPLIED CRYPTY      JARECKI         S.       2\n",
       "3  34650     CS222   PRINCIPLS DATA MGMT           LI         C.       3\n",
       "4  34700     CS260       FUND ALGORITHMS   HIRSCHBERG          D       5\n",
       "5  34720     CS263   ANALYSIS OF ALGRTHM       MIHAIL         M.       3\n",
       "6  34625   CS211A    IMAGE UNDERSTANDING     MAJUMDER         A.       3\n",
       "7  34790    CS274A         PROB LEARNING        SMYTH         P.       6"
      ]
     },
     "execution_count": 115,
     "metadata": {},
     "output_type": "execute_result"
    }
   ],
   "source": [
    "df"
   ]
  },
  {
   "cell_type": "code",
   "execution_count": 116,
   "metadata": {},
   "outputs": [],
   "source": [
    "# df.to_csv('Course.csv', columns= ['CODE','ID', 'Name', 'Instructor', 'Limits'], index=False)"
   ]
  },
  {
   "cell_type": "code",
   "execution_count": 117,
   "metadata": {},
   "outputs": [],
   "source": [
    "df.to_csv('Course1.txt', sep=',', columns= ['CODE','ID', 'Name', 'Instructor', 'Limits'], index=False)"
   ]
  },
  {
   "cell_type": "code",
   "execution_count": null,
   "metadata": {},
   "outputs": [],
   "source": []
  },
  {
   "cell_type": "code",
   "execution_count": null,
   "metadata": {},
   "outputs": [],
   "source": []
  },
  {
   "cell_type": "code",
   "execution_count": 107,
   "metadata": {},
   "outputs": [],
   "source": [
    "df = pd.read_csv(\"./Student.txt\", sep=\",\", header=None)\n",
    "df.columns = ['ID', 'Name']"
   ]
  },
  {
   "cell_type": "code",
   "execution_count": 108,
   "metadata": {},
   "outputs": [
    {
     "name": "stderr",
     "output_type": "stream",
     "text": [
      "/Users/yurunsong/opt/anaconda3/lib/python3.7/site-packages/ipykernel_launcher.py:2: SettingWithCopyWarning: \n",
      "A value is trying to be set on a copy of a slice from a DataFrame\n",
      "\n",
      "See the caveats in the documentation: https://pandas.pydata.org/pandas-docs/stable/user_guide/indexing.html#returning-a-view-versus-a-copy\n",
      "  \n"
     ]
    }
   ],
   "source": [
    "for i in range(10):\n",
    "    df.Name[i] = df.Name[i].replace('\\'', '')"
   ]
  },
  {
   "cell_type": "code",
   "execution_count": 109,
   "metadata": {},
   "outputs": [
    {
     "data": {
      "text/html": [
       "<div>\n",
       "<style scoped>\n",
       "    .dataframe tbody tr th:only-of-type {\n",
       "        vertical-align: middle;\n",
       "    }\n",
       "\n",
       "    .dataframe tbody tr th {\n",
       "        vertical-align: top;\n",
       "    }\n",
       "\n",
       "    .dataframe thead th {\n",
       "        text-align: right;\n",
       "    }\n",
       "</style>\n",
       "<table border=\"1\" class=\"dataframe\">\n",
       "  <thead>\n",
       "    <tr style=\"text-align: right;\">\n",
       "      <th></th>\n",
       "      <th>ID</th>\n",
       "      <th>Name</th>\n",
       "    </tr>\n",
       "  </thead>\n",
       "  <tbody>\n",
       "    <tr>\n",
       "      <th>0</th>\n",
       "      <td>1</td>\n",
       "      <td>Yurun Song</td>\n",
       "    </tr>\n",
       "    <tr>\n",
       "      <th>1</th>\n",
       "      <td>2</td>\n",
       "      <td>Junchen Zhao</td>\n",
       "    </tr>\n",
       "    <tr>\n",
       "      <th>2</th>\n",
       "      <td>3</td>\n",
       "      <td>Juncheng Fang</td>\n",
       "    </tr>\n",
       "    <tr>\n",
       "      <th>3</th>\n",
       "      <td>4</td>\n",
       "      <td>Jason</td>\n",
       "    </tr>\n",
       "    <tr>\n",
       "      <th>4</th>\n",
       "      <td>5</td>\n",
       "      <td>Ian</td>\n",
       "    </tr>\n",
       "    <tr>\n",
       "      <th>5</th>\n",
       "      <td>6</td>\n",
       "      <td>Ryan</td>\n",
       "    </tr>\n",
       "    <tr>\n",
       "      <th>6</th>\n",
       "      <td>7</td>\n",
       "      <td>Ali</td>\n",
       "    </tr>\n",
       "    <tr>\n",
       "      <th>7</th>\n",
       "      <td>8</td>\n",
       "      <td>Daniel</td>\n",
       "    </tr>\n",
       "    <tr>\n",
       "      <th>8</th>\n",
       "      <td>9</td>\n",
       "      <td>Iris</td>\n",
       "    </tr>\n",
       "    <tr>\n",
       "      <th>9</th>\n",
       "      <td>10</td>\n",
       "      <td>Kevin</td>\n",
       "    </tr>\n",
       "  </tbody>\n",
       "</table>\n",
       "</div>"
      ],
      "text/plain": [
       "   ID            Name\n",
       "0   1      Yurun Song\n",
       "1   2    Junchen Zhao\n",
       "2   3   Juncheng Fang\n",
       "3   4           Jason\n",
       "4   5             Ian\n",
       "5   6            Ryan\n",
       "6   7             Ali\n",
       "7   8          Daniel\n",
       "8   9            Iris\n",
       "9  10           Kevin"
      ]
     },
     "execution_count": 109,
     "metadata": {},
     "output_type": "execute_result"
    }
   ],
   "source": [
    "df"
   ]
  },
  {
   "cell_type": "code",
   "execution_count": 86,
   "metadata": {},
   "outputs": [],
   "source": [
    "# df.to_csv('Student.csv', columns= ['ID', 'Name'], index=False)"
   ]
  },
  {
   "cell_type": "code",
   "execution_count": 110,
   "metadata": {},
   "outputs": [],
   "source": [
    "df.to_csv('Student.txt',sep=',', columns= ['ID', 'Name'], index=False)"
   ]
  },
  {
   "cell_type": "code",
   "execution_count": 88,
   "metadata": {},
   "outputs": [],
   "source": [
    "# df = pd.read_csv(\"./Enrollment.txt\", sep=\",\", header=None)\n",
    "# df.columns = ['CourseCODE', 'StudentID' 'ID']"
   ]
  },
  {
   "cell_type": "code",
   "execution_count": 118,
   "metadata": {},
   "outputs": [],
   "source": [
    "pd.DataFrame(columns = ['CourseCODE', 'StudentID', 'ID']).to_csv('Enrollment.txt', index=False)"
   ]
  },
  {
   "cell_type": "code",
   "execution_count": null,
   "metadata": {},
   "outputs": [],
   "source": []
  }
 ],
 "metadata": {
  "kernelspec": {
   "display_name": "Python 3",
   "language": "python",
   "name": "python3"
  },
  "language_info": {
   "codemirror_mode": {
    "name": "ipython",
    "version": 3
   },
   "file_extension": ".py",
   "mimetype": "text/x-python",
   "name": "python",
   "nbconvert_exporter": "python",
   "pygments_lexer": "ipython3",
   "version": "3.7.4"
  }
 },
 "nbformat": 4,
 "nbformat_minor": 2
}
